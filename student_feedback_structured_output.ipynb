{
 "cells": [
  {
   "cell_type": "code",
   "execution_count": null,
   "metadata": {},
   "outputs": [],
   "source": [
    "import json\n",
    "import os\n",
    "import numpy as np\n",
    "import pandas as pd\n",
    "import requests\n",
    "from dotenv import load_dotenv\n",
    "from openai import OpenAI\n",
    "from pathlib import Path\n",
    "from pprint import pprint\n",
    "from pydantic import BaseModel, Field\n",
    "from student_feedback_utils import compute_model_cost\n",
    "from typing import List, Union\n",
    "\n",
    "load_dotenv(override=True)\n",
    "client = OpenAI()"
   ]
  },
  {
   "cell_type": "code",
   "execution_count": null,
   "metadata": {},
   "outputs": [],
   "source": [
    "# Set working directory - Not required if using Jupyter outside of VScode\n",
    "workdir = os.environ[\"workdir\"]\n",
    "os.chdir(workdir)\n",
    "os.getcwd()"
   ]
  },
  {
   "cell_type": "code",
   "execution_count": null,
   "metadata": {},
   "outputs": [],
   "source": [
    "# Load in Data\n",
    "data_dir = Path(\"./data/\")\n",
    "\n",
    "student_answers_llm_graded = pd.read_csv(data_dir / \"student_answers_llm_graded.csv\")"
   ]
  },
  {
   "cell_type": "code",
   "execution_count": null,
   "metadata": {},
   "outputs": [],
   "source": [
    "student_answers = student_answers_llm_graded[(student_answers_llm_graded.question_type == \"hs_explain\") & (student_answers_llm_graded.llm_mark_hitrate == True)].to_dict(orient=\"records\")\n",
    "student_answer = [i for i in student_answers if i[\"student_id\"] == 5200][0]\n",
    "student_answer"
   ]
  },
  {
   "cell_type": "code",
   "execution_count": null,
   "metadata": {},
   "outputs": [],
   "source": [
    "print(\"Question Text:\\n\", student_answer[\"question_text\"])\n",
    "print(\"-\"*40)\n",
    "print(\"Answer Text:\\n\", student_answer[\"answer_text\"])\n",
    "print(\"-\"*40)\n",
    "print(\"Mark Scheme Text:\\n\", student_answer[\"mark_scheme_text\"])\n",
    "print(\"-\"*40)\n",
    "print(\"LLM Graded Answer:\\n\", student_answer[\"llm_graded_answer\"])\n",
    "print(\"-\"*40)\n"
   ]
  },
  {
   "cell_type": "code",
   "execution_count": null,
   "metadata": {},
   "outputs": [],
   "source": [
    "# Opening JSON file\n",
    "with open('student_feedback_prompt.json', 'r') as openfile:\n",
    " \n",
    "    # Reading from json file\n",
    "    student_feedback_extract_prompt = json.load(openfile)[\"prompt\"]"
   ]
  },
  {
   "cell_type": "code",
   "execution_count": null,
   "metadata": {},
   "outputs": [],
   "source": [
    "print(student_feedback_extract_prompt)"
   ]
  },
  {
   "cell_type": "code",
   "execution_count": null,
   "metadata": {},
   "outputs": [],
   "source": [
    "class NumberedListItem(BaseModel):\n",
    "    \"\"\"Represents an individual item in the numbered list.\"\"\"\n",
    "    number: int\n",
    "    instruction: str\n",
    "\n",
    "class StudentFeedback(BaseModel):\n",
    "    \"\"\"Student Feedback Format.\"\"\"\n",
    "    answer_feedback: str\n",
    "    advice_to_improve_answer: List[NumberedListItem] = Field(default_factory=list)\n",
    "    revised_answer: str\n",
    "\n",
    "\n",
    "#student_answer = full_marks_answer.copy()\n",
    "\n",
    "if np.isnan( student_answer[\"llm_level_hitrate\"] ):\n",
    "    print(\"Student Feedback is only given for level hitrate.\")\n",
    "\n",
    "elif student_answer.get(\"llm_awarded_marks\") == student_answer.get(\"total_marks\"):\n",
    "    chat_completion = \"Good job, you achieved full marks.\"\n",
    "\n",
    "else:\n",
    "\n",
    "    chat_completion = client.beta.chat.completions.parse(\n",
    "        messages=[\n",
    "            {\n",
    "                \"role\": \"system\",\n",
    "                \"content\": \"You are an expert teacher with a specialty in helping students how they can improve their answers to achieve the highest marks.\"\n",
    "            },\n",
    "            {\n",
    "                \"role\": \"user\",\n",
    "                \"content\": student_feedback_extract_prompt.format_map(student_answer),\n",
    "            }\n",
    "        ],\n",
    "        response_format=StudentFeedback,\n",
    "        model=\"gpt-4o-mini\",\n",
    "    )"
   ]
  },
  {
   "cell_type": "code",
   "execution_count": null,
   "metadata": {},
   "outputs": [],
   "source": [
    "student_feedback_response = json.loads(chat_completion.model_dump_json())\n",
    "processing_cost = compute_model_cost(student_feedback_response)\n",
    "\n",
    "print(\"Total Cost:\\n\", processing_cost[\"total_cost\"])"
   ]
  },
  {
   "cell_type": "code",
   "execution_count": null,
   "metadata": {},
   "outputs": [],
   "source": [
    "student_feedback = chat_completion if isinstance(chat_completion, str) else chat_completion.choices[0].message.content"
   ]
  },
  {
   "cell_type": "code",
   "execution_count": null,
   "metadata": {},
   "outputs": [],
   "source": [
    "pprint(student_feedback)"
   ]
  },
  {
   "cell_type": "code",
   "execution_count": null,
   "metadata": {},
   "outputs": [],
   "source": [
    "print(\"LLM_Graded_Answer:\\n\", student_answer[\"llm_graded_answer\"] )\n",
    "print(\"-\"*40)\n",
    "print(\"Feedback on Student Answer:\\n\", student_feedback)"
   ]
  }
 ],
 "metadata": {
  "kernelspec": {
   "display_name": "student_feedback",
   "language": "python",
   "name": "python3"
  },
  "language_info": {
   "codemirror_mode": {
    "name": "ipython",
    "version": 3
   },
   "file_extension": ".py",
   "mimetype": "text/x-python",
   "name": "python",
   "nbconvert_exporter": "python",
   "pygments_lexer": "ipython3",
   "version": "3.11.8"
  }
 },
 "nbformat": 4,
 "nbformat_minor": 2
}
